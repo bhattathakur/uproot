{
 "cells": [
  {
   "cell_type": "code",
   "execution_count": null,
   "metadata": {},
   "outputs": [],
   "source": [
    "\"\"\"\n",
    "This function gives the indices of valid neighbour of point i,j in 2d array my_array.The valid point is one which lies inside the 2d array and contains the desired value (default=1).It stores valid pairs in the list nvalid. \n",
    "\"\"\"\n",
    "def getNeibours(i,j,my_array,nvalid,value=1):\n",
    "    #print('inside getneibour')\n",
    "    row_len=len(my_array)\n",
    "    #print(\"row_len\\t\",row_len)\n",
    "    col_len=len(my_array[0])\n",
    "    #print(\"col_len\\t\",col_len)\n",
    "    for m in range(i-1,i+2):\n",
    "        #print(\"inside m loop\")\n",
    "        #print(\"m\\t\",m)\n",
    "        if(m<0 or m>=row_len):continue #valid row\n",
    "        for n in range(j-1,j+2):\n",
    "            #print(\"inside n loop\")\n",
    "            #print(\"n\\t\",n)\n",
    "            if (n<0 or n>=col_len):continue #valid column\n",
    "            if (my_array[m][n]!=value):continue #check if the value in the point is desired\n",
    "            if ((m,n) not in nvalid):\n",
    "                nvalid.append((m,n)) #store the valid point in the list\n",
    "                my_array[m][n]=0     #visited point to 0\n",
    "                getNeibours(m,n,my_array,nvalid) #again search and test the neighbor for this valid point\n",
    "    return nvalid"
   ]
  },
  {
   "cell_type": "code",
   "execution_count": null,
   "metadata": {},
   "outputs": [],
   "source": [
    "\"\"\"Returns the first indices i,j in the given 2d array which contains the given value\"\"\"\n",
    "\n",
    "def get_first_index(my_array,value=1):\n",
    "    for i in range(len(my_array)): #len(list)->row, len(list[0])->column\n",
    "        for j in range(len(my_array[0])):\n",
    "            if(my_array[i][j]==value):\n",
    "                return i,j"
   ]
  },
  {
   "cell_type": "code",
   "execution_count": null,
   "metadata": {},
   "outputs": [],
   "source": [
    "\"\"\"reads the given numpy array in the form of 1's and 0's and stores the mean of indices of the valid neighbours in each group in the form of 2d array\"\"\"\n",
    "\n",
    "def xymeanarray(my_array,allx,ally):    \n",
    "    xmean=[] #stores all the x-values\n",
    "    ymean=[] #stors all the y-values\n",
    "    #allx stors xmean list from indivial array\n",
    "    #ally stores ymean list from individual array\n",
    "    while(True):\n",
    "        a=[] #for storing the valid points\n",
    "        print(\"=====================\")\n",
    "        print(\"operating array\\n\",my_array)\n",
    "        if(np.sum(my_array)==0):break #if total sum of array is 0, it is done\n",
    "        m,n=get_first_index(my_array) #get the first indices for the value=1 as tuple\n",
    "        print(\"first indices\\t\",m,\"\\t\",n)\n",
    "        combined=(getNeibours(m,n,my_array,a))  #store the valid members as the list of tuple\n",
    "        x=[i[0] for i in combined]  #get first index in the tuple and store in the list\n",
    "        y=[i[1] for i in combined]  #get the second index in the tuple and store in the list\n",
    "        print(\"x\\t\",x)\n",
    "        print(\"y\\t\",y)\n",
    "        xmean.append(round(mean(x),2)) #for mean import mean from statistics\n",
    "        ymean.append(round(mean(y),2))\n",
    "        print(\"getNeighbour\\n\",combined)\n",
    "        #print(my_array)\n",
    "        #k=k+1\n",
    "        print(\"====================\")\n",
    "        print(\"xmean\\t\",xmean)\n",
    "        print(\"ymean\\t\",ymean)\n",
    "    allx.append(xmean) #append xmean list\n",
    "    ally.append(ymean) #append ymean list\n",
    "    #plt.plot(xmean,ymean)\n",
    "    print(\"###########################################################################################\")\n",
    "    print(\"x-list\\n\",allx)\n",
    "    print(\"y-list\\n\",ally)"
   ]
  },
  {
   "cell_type": "code",
   "execution_count": null,
   "metadata": {},
   "outputs": [],
   "source": [
    "\"\"\"This function reads the file and stores the x-mean and y-mean of each group in two different 2d arrays\"\"\"\n",
    "import numpy as np\n",
    "import pandas as pd\n",
    "from statistics import mean\n",
    "import sys\n",
    "sys.setrecursionlimit(100000) # this will prevent the error in recursion\n",
    "\n",
    "def read_files(filename,xmeanlist,ymeanlist):\n",
    "    df=pd.read_csv(filename) #input file as panda dataframe\n",
    "    my_array=np.array(df)    #dataframe to numpy array\n",
    "    my_array=my_array[511:767] #check this range\n",
    "    my_array[(my_array>1) | (my_array<1)]=0 # 0 if value<1 or value>1\n",
    "    print(\"original array\\n\",my_array)\n",
    "    xymeanarray(my_array,xmeanlist,ymeanlist)\n",
    "    \n",
    "#define two empty list which stores the x-mean and y-mean as the list from each file\n",
    "xmeanlist=[]\n",
    "ymeanlist=[]\n",
    "filename=['m000017.csv','m000067.csv'] #file or list of files\n",
    "for i in filename:\n",
    "    print(\"reading file \\t\",i)\n",
    "    print('***********************************************************')\n",
    "    read_files(i,xmeanlist,ymeanlist)\n",
    "    print(\"@@@@@@@@@@@@@@@@@@@@@@@@@@@@@@@@@@@@successful@@@@@@@@@@@@@@@@@@@@@@@@@@@@@@2\")"
   ]
  },
  {
   "cell_type": "code",
   "execution_count": null,
   "metadata": {},
   "outputs": [],
   "source": [
    "xmeanlist"
   ]
  },
  {
   "cell_type": "code",
   "execution_count": null,
   "metadata": {},
   "outputs": [],
   "source": [
    "#getting the x-values in the particular column if the value is not missing\n",
    "print(\"xmeanlist\\n\",xmeanlist)\n",
    "meanxdf=pd.DataFrame(xmeanlist)\n",
    "print(\"meanxdf\\n\",meanxdf)\n",
    "meanxdfnona=meanxdf.dropna(axis=1) #removes the column with missing value\n",
    "print(\"meanxdfnona\\n\",meanxdfnona)\n",
    "x1list=list(meanxdfnona.iloc[:,0]) #list of first column i.e.x1\n",
    "print(\"x1list\\n\",x1list)\n",
    "meanxdf"
   ]
  },
  {
   "cell_type": "code",
   "execution_count": null,
   "metadata": {},
   "outputs": [],
   "source": [
    "#getting the y-values in the particular column if the value is not missing\n",
    "print(\"ymeanlist\\n\",ymeanlist)\n",
    "meanydf=pd.DataFrame(ymeanlist)\n",
    "print(\"meanydf\\n\",meanydf)\n",
    "meanydfnona=meanydf.dropna(axis=1) #removes the column with missing value\n",
    "print(\"meanydfnona\\n\",meanydfnona)\n",
    "y1list=list(meanydfnona.iloc[:,0]) #list of first column i.e.x1\n",
    "print(\"y1list\\n\",y1list)\n",
    "meanydf"
   ]
  },
  {
   "cell_type": "code",
   "execution_count": null,
   "metadata": {},
   "outputs": [],
   "source": [
    "#plotging x1's \n",
    "import matplotlib.pyplot as plt\n",
    "plt.plot(x1list,'o')\n",
    "plt.show()"
   ]
  },
  {
   "cell_type": "code",
   "execution_count": null,
   "metadata": {},
   "outputs": [],
   "source": [
    "#plotting y1's \n",
    "plt.plot(y1list,'x')\n",
    "plt.show()"
   ]
  },
  {
   "cell_type": "code",
   "execution_count": null,
   "metadata": {},
   "outputs": [],
   "source": [
    "#plot x1 vs y1\n",
    "plt.plot(x1list,y1list,'o')\n",
    "plt.show()"
   ]
  },
  {
   "cell_type": "code",
   "execution_count": null,
   "metadata": {},
   "outputs": [],
   "source": [
    "meanxdfnona #dataframe\n",
    "cols=meanxdfnona.shape[1] #number of columns\n",
    "colname=[(\"x\"+str(i+1)) for i in range(cols)]\n",
    "meanxdfnona.columns=[colname]\n",
    "meanxdfnona"
   ]
  },
  {
   "cell_type": "code",
   "execution_count": null,
   "metadata": {},
   "outputs": [],
   "source": [
    "plt.plot(meanxdfnona.x1,'ro')\n",
    "plt.plot(meanxdfnona.x5,'bx')"
   ]
  },
  {
   "cell_type": "code",
   "execution_count": null,
   "metadata": {},
   "outputs": [],
   "source": []
  }
 ],
 "metadata": {
  "kernelspec": {
   "display_name": "Python 3",
   "language": "python",
   "name": "python3"
  },
  "language_info": {
   "codemirror_mode": {
    "name": "ipython",
    "version": 3
   },
   "file_extension": ".py",
   "mimetype": "text/x-python",
   "name": "python",
   "nbconvert_exporter": "python",
   "pygments_lexer": "ipython3",
   "version": "3.7.5"
  }
 },
 "nbformat": 4,
 "nbformat_minor": 2
}
