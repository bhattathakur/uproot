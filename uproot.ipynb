{
 "cells": [
  {
   "cell_type": "code",
   "execution_count": 2,
   "metadata": {},
   "outputs": [],
   "source": [
    "import uproot\n",
    "import numpy as np\n",
    "import pandas as pd\n",
    "import matplotlib.pyplot as plt"
   ]
  },
  {
   "cell_type": "code",
   "execution_count": 3,
   "metadata": {},
   "outputs": [],
   "source": [
    "file=uproot.open('neutron_concrete00.root')[\"t\"]\n",
    "#open TTree t in the given root file"
   ]
  },
  {
   "cell_type": "code",
   "execution_count": 4,
   "metadata": {
    "collapsed": true
   },
   "outputs": [
    {
     "name": "stdout",
     "output_type": "stream",
     "text": [
      "n                          (no streamer)              asdtype('>i4')\n",
      "m                          (no streamer)              asdtype('>i4')\n",
      "trk                        TStreamerSTL               asjagged(asdtype('>i4'), 10)\n",
      "stp                        TStreamerSTL               asjagged(asdtype('>i4'), 10)\n",
      "vlm                        TStreamerSTL               asjagged(asdtype('>i4'), 10)\n",
      "pro                        TStreamerSTL               asjagged(asdtype('>i4'), 10)\n",
      "pdg                        TStreamerSTL               asjagged(asdtype('>i4'), 10)\n",
      "mom                        TStreamerSTL               asjagged(asdtype('>i4'), 10)\n",
      "k                          TStreamerSTL               asjagged(asdtype('>f8'), 10)\n",
      "p                          TStreamerSTL               asjagged(asdtype('>f8'), 10)\n",
      "q                          TStreamerSTL               asjagged(asdtype('>f8'), 10)\n",
      "t                          TStreamerSTL               asjagged(asdtype('>f8'), 10)\n",
      "x                          TStreamerSTL               asjagged(asdtype('>f8'), 10)\n",
      "y                          TStreamerSTL               asjagged(asdtype('>f8'), 10)\n",
      "z                          TStreamerSTL               asjagged(asdtype('>f8'), 10)\n",
      "l                          TStreamerSTL               asjagged(asdtype('>f8'), 10)\n",
      "de                         TStreamerSTL               asjagged(asdtype('>f8'), 10)\n",
      "dl                         TStreamerSTL               asjagged(asdtype('>f8'), 10)\n",
      "t0                         TStreamerSTL               asjagged(asdtype('>f8'), 10)\n",
      "x0                         TStreamerSTL               asjagged(asdtype('>f8'), 10)\n",
      "y0                         TStreamerSTL               asjagged(asdtype('>f8'), 10)\n",
      "z0                         TStreamerSTL               asjagged(asdtype('>f8'), 10)\n",
      "et                         TStreamerSTL               asjagged(asdtype('>f8'), 10)\n"
     ]
    }
   ],
   "source": [
    "file.show()\n",
    "#shows the branches and their interpretion as arrays"
   ]
  },
  {
   "cell_type": "code",
   "execution_count": 6,
   "metadata": {
    "collapsed": true
   },
   "outputs": [
    {
     "data": {
      "text/plain": [
       "(b'Geant4 step points', b't', 50000)"
      ]
     },
     "execution_count": 6,
     "metadata": {},
     "output_type": "execute_result"
    }
   ],
   "source": [
    "file.title,file.name,file.numentries\n",
    "#title,name, number of entries"
   ]
  },
  {
   "cell_type": "code",
   "execution_count": 9,
   "metadata": {},
   "outputs": [],
   "source": [
    "step=file.array(\"stp\") #stp as numpy array"
   ]
  },
  {
   "cell_type": "code",
   "execution_count": 8,
   "metadata": {
    "collapsed": true
   },
   "outputs": [
    {
     "data": {
      "text/plain": [
       "<JaggedArray [[2 3 4 ... 1 0 1] [2 3 4 ... 2 3 4] [2 0 1 ... 2 0 1] ... [2 3 4 ... 0 1 2] [2 3 4 ... 1 2 3] [2 3 4 ... 1 2 3]] at 0x7f900e881750>"
      ]
     },
     "execution_count": 8,
     "metadata": {},
     "output_type": "execute_result"
    }
   ],
   "source": [
    "step"
   ]
  },
  {
   "cell_type": "code",
   "execution_count": 4,
   "metadata": {},
   "outputs": [],
   "source": [
    "global_corordinates=file.pandas.df(\"[xyz]0\",entrystop=10)\n",
    "#expresses x0, y0 and z0 as the data frame"
   ]
  },
  {
   "cell_type": "code",
   "execution_count": 5,
   "metadata": {},
   "outputs": [
    {
     "data": {
      "text/plain": [
       "[<matplotlib.lines.Line2D at 0x7f2260a2a790>,\n",
       " <matplotlib.lines.Line2D at 0x7f2260a2aa10>]"
      ]
     },
     "execution_count": 5,
     "metadata": {},
     "output_type": "execute_result"
    },
    {
     "data": {
      "image/png": "[encoded data removed]",
      "text/plain": [
       "<Figure size 432x288 with 1 Axes>"
      ]
     },
     "metadata": {
      "needs_background": "light"
     },
     "output_type": "display_data"
    }
   ],
   "source": [
    "x01=global_corordinates[\"x0\"][1]\n",
    "y01=global_corordinates[\"y0\"][1]\n",
    "z01=global_corordinates[\"z0\"][1]\n",
    "plt.plot(x01,y01,z01)\n"
   ]
  },
  {
   "cell_type": "code",
   "execution_count": 25,
   "metadata": {},
   "outputs": [
    {
     "data": {
      "text/plain": [
       "[<matplotlib.lines.Line2D at 0x7f8f9e2e7690>]"
      ]
     },
     "execution_count": 25,
     "metadata": {},
     "output_type": "execute_result"
    },
    {
     "data": {
      "image/png": "[encoded data removed]",
      "text/plain": [
       "<Figure size 432x288 with 1 Axes>"
      ]
     },
     "metadata": {
      "needs_background": "light"
     },
     "output_type": "display_data"
    }
   ],
   "source": []
  },
  {
   "cell_type": "code",
   "execution_count": null,
   "metadata": {},
   "outputs": [],
   "source": []
  }
 ],
 "metadata": {
  "kernelspec": {
   "display_name": "Python 3",
   "language": "python",
   "name": "python3"
  },
  "language_info": {
   "codemirror_mode": {
    "name": "ipython",
    "version": 3
   },
   "file_extension": ".py",
   "mimetype": "text/x-python",
   "name": "python",
   "nbconvert_exporter": "python",
   "pygments_lexer": "ipython3",
   "version": "3.7.5"
  }
 },
 "nbformat": 4,
 "nbformat_minor": 2
}
